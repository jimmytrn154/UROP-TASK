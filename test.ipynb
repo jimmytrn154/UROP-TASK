{
 "cells": [
  {
   "cell_type": "code",
   "execution_count": 2,
   "metadata": {},
   "outputs": [],
   "source": [
    "import pandas as pd \n",
    "import numpy as np  \n",
    "import seaborn as sns\n",
    "import matplotlib.pyplot as plt "
   ]
  },
  {
   "cell_type": "code",
   "execution_count": 3,
   "metadata": {},
   "outputs": [],
   "source": [
    "df = pd.read_json(\"edinburgh_knn2rest.json\")"
   ]
  },
  {
   "cell_type": "code",
   "execution_count": 4,
   "metadata": {},
   "outputs": [
    {
     "name": "stdout",
     "output_type": "stream",
     "text": [
      "                                      L3kgTysYuNKMtGPBZiP_bA  \\\n",
      "kw         [pho, soul sushi, treacle, sheep heid, piatto ...   \n",
      "score_kw   [47.55979559778836, 27.631021115928544, 23.977...   \n",
      "candidate  [8Haoz9Mil7ZnHGU48sgBtw, KWPhAfod__yKvjH-LG4bj...   \n",
      "simUser    [Mqg4L8flJmg8pqeR-uYyRg, A_dC3FJOqvlsDEiDyMrzl...   \n",
      "\n",
      "                                      XFqrwk2eyELwev8aFSxvQg  \\\n",
      "kw         [mosque kitchen, dosa, dosa, pies, buffets, ve...   \n",
      "score_kw   [25.143054131195427, 11.921214074733081, 11.92...   \n",
      "candidate  [PiT0jyLL2Jwm2ODTDapOcg, ksP8426d2qN-mg-JDpkRV...   \n",
      "simUser    [HvQ576LJm6i6QZuTwl7WVg, PEN-Ttdt8r2MEk6Q5CnYb...   \n",
      "\n",
      "                                      U1L1ZTbrFOu9kdxa1A2cgg  \\\n",
      "kw         [vegetable curry, lunchtime menu, flight, grea...   \n",
      "score_kw   [6.946583181897552, 4.417168734289797, 4.35748...   \n",
      "candidate  [E7s0QreUJ2H9r0Ls1yDeiQ, NHucZLFgAhjlKKAKGd8R6...   \n",
      "simUser    [Z_xbO-Iaxbx-ZRPhLJK-Ew, LURC3E0DoXYgN9aYTF3XO...   \n",
      "\n",
      "                                      x_B6HetResuFzznXnVyEog  \\\n",
      "kw         [manna house, favorita, joseph pearce, joseph ...   \n",
      "score_kw   [18.19473284966637, 17.05623858757828, 14.1315...   \n",
      "candidate  [8axxI33rUyswfRk_v3vS0A, z57omnqRcAODGwbwMHEIy...   \n",
      "simUser    [Z_xbO-Iaxbx-ZRPhLJK-Ew, KPY6FvT6h-r0W0HAC1Bua...   \n",
      "\n",
      "                                      DdaPc_xbu6or0qcTPVd1bQ  \\\n",
      "kw         [red squirrel, peter yard, peter yard, zizzi, ...   \n",
      "score_kw   [34.56365743180036, 28.60440615045546, 28.6044...   \n",
      "candidate  [qesu3mk5yHeak9CUO4gRdQ, xOZ7bkrttSIGS4NZm49w5...   \n",
      "simUser    [Z_xbO-Iaxbx-ZRPhLJK-Ew, KPY6FvT6h-r0W0HAC1Bua...   \n",
      "\n",
      "                                      rBHZxhzDiZR2gCFoEgGRpQ  \\\n",
      "kw         [cafe royal, bar, favourite pub, beer selectio...   \n",
      "score_kw   [17.13746802349831, 5.375901548134857, 5.29831...   \n",
      "candidate  [Jwp4UFa93ENe-0REPo5hCQ, 563C7-HcjhZwZSl4fK-mf...   \n",
      "simUser    [Z_xbO-Iaxbx-ZRPhLJK-Ew, 4UQfst9jve4GCSfWpWn2u...   \n",
      "\n",
      "                                      yfXqZkU5iXE07GSHzdsQBA  \\\n",
      "kw         [piemaker, biblos, city restaurant, noor, noor...   \n",
      "score_kw   [63.743341880768774, 43.78330553426542, 40.745...   \n",
      "candidate  [IO8J6QJsdFeuso1Xmp3YtA, S9XKKA1evhRh16zrXpSF7...   \n",
      "simUser    [PEN-Ttdt8r2MEk6Q5CnYbw, v_lWueG7V_vul4E8rCEdj...   \n",
      "\n",
      "                                      RFxjYeLW_aYLdVW3PBwFNg  \\\n",
      "kw         [auld hoose, poutine, poutine, loudons, bonsai...   \n",
      "score_kw   [46.1967558566792, 33.07896753284549, 33.07896...   \n",
      "candidate  [OvbLKXkJCg8ZMHX9L5faIA, r3U-3yOP1ZB8Yu8Gv0Auw...   \n",
      "simUser    [jY-M01vatSmfy-mK_g0h9A, Z_xbO-Iaxbx-ZRPhLJK-E...   \n",
      "\n",
      "                                      ixBoXpBL1JmKmcP1F2fTHA  \\\n",
      "kw         [pho, chop chop, nobles, ecco vino, tang, kylo...   \n",
      "score_kw   [47.55979559778836, 33.803287361013744, 33.294...   \n",
      "candidate  [xjBvbDmbsA0VX-vA55SbAA, 8Haoz9Mil7ZnHGU48sgBt...   \n",
      "simUser    [Z_xbO-Iaxbx-ZRPhLJK-Ew, Mqg4L8flJmg8pqeR-uYyR...   \n",
      "\n",
      "                                      F0nFAY1Qi_7it_Q52n3nTw  ...  \\\n",
      "kw         [viva mexico, nobles, browns, bonsai, chicken ...  ...   \n",
      "score_kw   [34.149583594935024, 33.294845398324604, 28.62...  ...   \n",
      "candidate  [8PmbCVEjWGPouD1Tst6FsQ, KWPhAfod__yKvjH-LG4bj...  ...   \n",
      "simUser    [Mqg4L8flJmg8pqeR-uYyRg, A_dC3FJOqvlsDEiDyMrzl...  ...   \n",
      "\n",
      "                                      93vyTaJgzQRQO4Zs9Cg_pw  \\\n",
      "kw         [kalpna, sushi, sushi, japanese food, maki, ja...   \n",
      "score_kw   [20.628328127222854, 16.614824699697913, 16.61...   \n",
      "candidate  [W-kOZ946xRWBJZvxXhJ7DA, ZOyBVpeSQ7sYDeZa_v0MF...   \n",
      "simUser    [HvQ576LJm6i6QZuTwl7WVg, Mqg4L8flJmg8pqeR-uYyR...   \n",
      "\n",
      "                                      c17s5z5V4_ppX4w6TZdFDg  \\\n",
      "kw         [kim, kanpai, sushi, korean food, korean food,...   \n",
      "score_kw   [24.809225649634115, 17.339508811693673, 16.61...   \n",
      "candidate  [W-kOZ946xRWBJZvxXhJ7DA, ZOyBVpeSQ7sYDeZa_v0MF...   \n",
      "simUser    [KPY6FvT6h-r0W0HAC1Buag, 6YW-IEZzzVaIYpteJlgy9...   \n",
      "\n",
      "                                      t8aJIHxkutRlWMRNSvpq6w  \\\n",
      "kw         [brewdog, brewdog, doric, amber, margaritas, m...   \n",
      "score_kw   [27.743214098709878, 27.743214098709878, 24.14...   \n",
      "candidate  [0SBDr7GJAFzKECE7IIWfJA, 36jGZp7V0jLnPCYmRipUC...   \n",
      "simUser    [Z_xbO-Iaxbx-ZRPhLJK-Ew, KPY6FvT6h-r0W0HAC1Bua...   \n",
      "\n",
      "                                      10RpPp6zKOTkJwE6JE7Ung  \\\n",
      "kw         [sushi, best sushi, milkshakes, dogs, vouchers...   \n",
      "score_kw   [16.614824699697913, 9.019720012367532, 6.8225...   \n",
      "candidate  [W-kOZ946xRWBJZvxXhJ7DA, 8PmbCVEjWGPouD1Tst6Fs...   \n",
      "simUser    [KPY6FvT6h-r0W0HAC1Buag, Mqg4L8flJmg8pqeR-uYyR...   \n",
      "\n",
      "                                      SfY0jEFqBkrqq9bVi6P31Q  \\\n",
      "kw         [khukuri, oysters, oysters, oysters, innis, mu...   \n",
      "score_kw   [15.536520246055478, 8.82046715964424, 8.82046...   \n",
      "candidate  [nbJXmGpdCxiBnovBkBtWcA, g_fGPZJlGeKGLgC-j-tj6...   \n",
      "simUser    [H5TEwR-OD0XxILGNaewohA, VPZ0UYhVW2ZkdT-mMQ4KL...   \n",
      "\n",
      "                                      xXQTdJXPGOP-NUYctcQw8g  \\\n",
      "kw         [elephant house, piemaker, oink, luca, luca, e...   \n",
      "score_kw   [81.63354975067928, 63.743341880768774, 49.870...   \n",
      "candidate  [S1eha-aT5c7WMk7lDLsW0A, sH-11zOhWubXobEeuMo2g...   \n",
      "simUser    [PEN-Ttdt8r2MEk6Q5CnYbw, CqkdpG2tkCPQA69umlAHs...   \n",
      "\n",
      "                                      DR6kA7EWIiGIEMuXASJL2w  \\\n",
      "kw         [burger, burger, good cup, tokyo, cocktails, b...   \n",
      "score_kw   [7.078502986531457, 7.078502986531457, 5.96866...   \n",
      "candidate  [36jGZp7V0jLnPCYmRipUCg, z57omnqRcAODGwbwMHEIy...   \n",
      "simUser    [Z_xbO-Iaxbx-ZRPhLJK-Ew, KPY6FvT6h-r0W0HAC1Bua...   \n",
      "\n",
      "                                      QLecW-87QIdnwBnVH1mDBQ  \\\n",
      "kw         [hipster, haggis appetizer, courgette, tour, b...   \n",
      "score_kw   [8.28614413122959, 5.809142990314027, 5.757315...   \n",
      "candidate  [563C7-HcjhZwZSl4fK-mfQ, sH-11zOhWubXobEeuMo2g...   \n",
      "simUser    [Z_xbO-Iaxbx-ZRPhLJK-Ew, fKi8ZF3xpJJkgSusRubeM...   \n",
      "\n",
      "                                      w_kJSxW49eAT6NdiXJEpsw  \\\n",
      "kw         [borek, sandwich places, relish, naan, wrap, k...   \n",
      "score_kw   [8.830528944246728, 6.901826147327807, 6.65191...   \n",
      "candidate  [t4pxMWLb7wDMsmURxYkUYQ, zK_6fn5ZLSkW7OhRD30IB...   \n",
      "simUser    [5iRCT4uAsyP1UoEUoxbylA, Cy1PV2TdYeDFA16mUOlr3...   \n",
      "\n",
      "                                      0S2KCUzFvnWvlRWaDMz7Ng  \n",
      "kw         [smoked tofu, union, small potato, burrito, bu...  \n",
      "score_kw   [15.347987429262243, 13.680222255689849, 11.61...  \n",
      "candidate  [9RKjjuTQYkYpGmCtfVsTZQ, NHucZLFgAhjlKKAKGd8R6...  \n",
      "simUser    [Z_xbO-Iaxbx-ZRPhLJK-Ew, ZslMmrn4z4BMPRRDoaBtg...  \n",
      "\n",
      "[4 rows x 223 columns]\n"
     ]
    }
   ],
   "source": [
    "print(df.head())"
   ]
  },
  {
   "cell_type": "code",
   "execution_count": 7,
   "metadata": {},
   "outputs": [
    {
     "ename": "KeyError",
     "evalue": "'kw'",
     "output_type": "error",
     "traceback": [
      "\u001b[1;31m---------------------------------------------------------------------------\u001b[0m",
      "\u001b[1;31mKeyError\u001b[0m                                  Traceback (most recent call last)",
      "File \u001b[1;32mc:\\Users\\jimmy\\Documents\\Tài liệu\\vital docs\\CODING\\Project\\KALM4Rec\\shit\\lib\\site-packages\\pandas\\core\\indexes\\base.py:3805\u001b[0m, in \u001b[0;36mIndex.get_loc\u001b[1;34m(self, key)\u001b[0m\n\u001b[0;32m   3804\u001b[0m \u001b[38;5;28;01mtry\u001b[39;00m:\n\u001b[1;32m-> 3805\u001b[0m     \u001b[38;5;28;01mreturn\u001b[39;00m \u001b[38;5;28;43mself\u001b[39;49m\u001b[38;5;241;43m.\u001b[39;49m\u001b[43m_engine\u001b[49m\u001b[38;5;241;43m.\u001b[39;49m\u001b[43mget_loc\u001b[49m\u001b[43m(\u001b[49m\u001b[43mcasted_key\u001b[49m\u001b[43m)\u001b[49m\n\u001b[0;32m   3806\u001b[0m \u001b[38;5;28;01mexcept\u001b[39;00m \u001b[38;5;167;01mKeyError\u001b[39;00m \u001b[38;5;28;01mas\u001b[39;00m err:\n",
      "File \u001b[1;32mindex.pyx:167\u001b[0m, in \u001b[0;36mpandas._libs.index.IndexEngine.get_loc\u001b[1;34m()\u001b[0m\n",
      "File \u001b[1;32mindex.pyx:196\u001b[0m, in \u001b[0;36mpandas._libs.index.IndexEngine.get_loc\u001b[1;34m()\u001b[0m\n",
      "File \u001b[1;32mpandas\\\\_libs\\\\hashtable_class_helper.pxi:7081\u001b[0m, in \u001b[0;36mpandas._libs.hashtable.PyObjectHashTable.get_item\u001b[1;34m()\u001b[0m\n",
      "File \u001b[1;32mpandas\\\\_libs\\\\hashtable_class_helper.pxi:7089\u001b[0m, in \u001b[0;36mpandas._libs.hashtable.PyObjectHashTable.get_item\u001b[1;34m()\u001b[0m\n",
      "\u001b[1;31mKeyError\u001b[0m: 'kw'",
      "\nThe above exception was the direct cause of the following exception:\n",
      "\u001b[1;31mKeyError\u001b[0m                                  Traceback (most recent call last)",
      "Cell \u001b[1;32mIn[7], line 1\u001b[0m\n\u001b[1;32m----> 1\u001b[0m restaurants \u001b[38;5;241m=\u001b[39m \u001b[43mdf\u001b[49m\u001b[43m[\u001b[49m\u001b[38;5;124;43m'\u001b[39;49m\u001b[38;5;124;43mkw\u001b[39;49m\u001b[38;5;124;43m'\u001b[39;49m\u001b[43m]\u001b[49m\u001b[38;5;241m.\u001b[39mtolist()\n",
      "File \u001b[1;32mc:\\Users\\jimmy\\Documents\\Tài liệu\\vital docs\\CODING\\Project\\KALM4Rec\\shit\\lib\\site-packages\\pandas\\core\\frame.py:4102\u001b[0m, in \u001b[0;36mDataFrame.__getitem__\u001b[1;34m(self, key)\u001b[0m\n\u001b[0;32m   4100\u001b[0m \u001b[38;5;28;01mif\u001b[39;00m \u001b[38;5;28mself\u001b[39m\u001b[38;5;241m.\u001b[39mcolumns\u001b[38;5;241m.\u001b[39mnlevels \u001b[38;5;241m>\u001b[39m \u001b[38;5;241m1\u001b[39m:\n\u001b[0;32m   4101\u001b[0m     \u001b[38;5;28;01mreturn\u001b[39;00m \u001b[38;5;28mself\u001b[39m\u001b[38;5;241m.\u001b[39m_getitem_multilevel(key)\n\u001b[1;32m-> 4102\u001b[0m indexer \u001b[38;5;241m=\u001b[39m \u001b[38;5;28;43mself\u001b[39;49m\u001b[38;5;241;43m.\u001b[39;49m\u001b[43mcolumns\u001b[49m\u001b[38;5;241;43m.\u001b[39;49m\u001b[43mget_loc\u001b[49m\u001b[43m(\u001b[49m\u001b[43mkey\u001b[49m\u001b[43m)\u001b[49m\n\u001b[0;32m   4103\u001b[0m \u001b[38;5;28;01mif\u001b[39;00m is_integer(indexer):\n\u001b[0;32m   4104\u001b[0m     indexer \u001b[38;5;241m=\u001b[39m [indexer]\n",
      "File \u001b[1;32mc:\\Users\\jimmy\\Documents\\Tài liệu\\vital docs\\CODING\\Project\\KALM4Rec\\shit\\lib\\site-packages\\pandas\\core\\indexes\\base.py:3812\u001b[0m, in \u001b[0;36mIndex.get_loc\u001b[1;34m(self, key)\u001b[0m\n\u001b[0;32m   3807\u001b[0m     \u001b[38;5;28;01mif\u001b[39;00m \u001b[38;5;28misinstance\u001b[39m(casted_key, \u001b[38;5;28mslice\u001b[39m) \u001b[38;5;129;01mor\u001b[39;00m (\n\u001b[0;32m   3808\u001b[0m         \u001b[38;5;28misinstance\u001b[39m(casted_key, abc\u001b[38;5;241m.\u001b[39mIterable)\n\u001b[0;32m   3809\u001b[0m         \u001b[38;5;129;01mand\u001b[39;00m \u001b[38;5;28many\u001b[39m(\u001b[38;5;28misinstance\u001b[39m(x, \u001b[38;5;28mslice\u001b[39m) \u001b[38;5;28;01mfor\u001b[39;00m x \u001b[38;5;129;01min\u001b[39;00m casted_key)\n\u001b[0;32m   3810\u001b[0m     ):\n\u001b[0;32m   3811\u001b[0m         \u001b[38;5;28;01mraise\u001b[39;00m InvalidIndexError(key)\n\u001b[1;32m-> 3812\u001b[0m     \u001b[38;5;28;01mraise\u001b[39;00m \u001b[38;5;167;01mKeyError\u001b[39;00m(key) \u001b[38;5;28;01mfrom\u001b[39;00m \u001b[38;5;21;01merr\u001b[39;00m\n\u001b[0;32m   3813\u001b[0m \u001b[38;5;28;01mexcept\u001b[39;00m \u001b[38;5;167;01mTypeError\u001b[39;00m:\n\u001b[0;32m   3814\u001b[0m     \u001b[38;5;66;03m# If we have a listlike key, _check_indexing_error will raise\u001b[39;00m\n\u001b[0;32m   3815\u001b[0m     \u001b[38;5;66;03m#  InvalidIndexError. Otherwise we fall through and re-raise\u001b[39;00m\n\u001b[0;32m   3816\u001b[0m     \u001b[38;5;66;03m#  the TypeError.\u001b[39;00m\n\u001b[0;32m   3817\u001b[0m     \u001b[38;5;28mself\u001b[39m\u001b[38;5;241m.\u001b[39m_check_indexing_error(key)\n",
      "\u001b[1;31mKeyError\u001b[0m: 'kw'"
     ]
    }
   ],
   "source": [
    "restaurants = df['kw'].tolist()"
   ]
  },
  {
   "cell_type": "code",
   "execution_count": null,
   "metadata": {},
   "outputs": [],
   "source": []
  },
  {
   "cell_type": "code",
   "execution_count": null,
   "metadata": {},
   "outputs": [],
   "source": []
  },
  {
   "cell_type": "code",
   "execution_count": null,
   "metadata": {},
   "outputs": [],
   "source": []
  },
  {
   "cell_type": "code",
   "execution_count": null,
   "metadata": {},
   "outputs": [],
   "source": []
  }
 ],
 "metadata": {
  "kernelspec": {
   "display_name": "shit",
   "language": "python",
   "name": "python3"
  },
  "language_info": {
   "codemirror_mode": {
    "name": "ipython",
    "version": 3
   },
   "file_extension": ".py",
   "mimetype": "text/x-python",
   "name": "python",
   "nbconvert_exporter": "python",
   "pygments_lexer": "ipython3",
   "version": "3.10.10"
  }
 },
 "nbformat": 4,
 "nbformat_minor": 2
}
